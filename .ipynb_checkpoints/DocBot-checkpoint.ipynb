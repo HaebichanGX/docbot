{
 "cells": [
  {
   "cell_type": "code",
   "execution_count": 31,
   "id": "dfa86349-e2df-4122-8d9c-db384c2f8cd0",
   "metadata": {},
   "outputs": [],
   "source": [
    "%run helper_functions.ipynb\n",
    "\n",
    "PATH = 'final_community_df.csv'\n",
    "DIRECTORY_PATH = \"/Users/jungh/Desktop/great_expectations/docs/docusaurus/docs/guides/\""
   ]
  },
  {
   "cell_type": "code",
   "execution_count": 32,
   "id": "2a618924-6f5d-4437-ab67-60552ddf7da5",
   "metadata": {},
   "outputs": [],
   "source": [
    "all_file_mapping = process_md_files(DIRECTORY_PATH)"
   ]
  },
  {
   "cell_type": "code",
   "execution_count": 20,
   "id": "6516b4c9-464c-4d7f-88c6-8c73397c70e0",
   "metadata": {},
   "outputs": [],
   "source": [
    "openai_api_key = os.environ.get('OPENAI_API_KEY')"
   ]
  },
  {
   "cell_type": "code",
   "execution_count": 25,
   "id": "c797a61c-a409-4a89-94d2-9c4d43848210",
   "metadata": {},
   "outputs": [
    {
     "data": {
      "text/plain": [
       "377"
      ]
     },
     "execution_count": 25,
     "metadata": {},
     "output_type": "execute_result"
    }
   ],
   "source": [
    "len(document_objects)"
   ]
  },
  {
   "cell_type": "code",
   "execution_count": 33,
   "id": "7aecd69b-c038-4233-b96f-f5aecf989af2",
   "metadata": {},
   "outputs": [
    {
     "data": {
      "text/plain": [
       "{}"
      ]
     },
     "execution_count": 33,
     "metadata": {},
     "output_type": "execute_result"
    }
   ],
   "source": [
    "all_file_mapping"
   ]
  },
  {
   "cell_type": "code",
   "execution_count": 21,
   "id": "75d35708-b015-4e89-afd6-8dc89fe35cd9",
   "metadata": {},
   "outputs": [],
   "source": [
    "# Get the document_objects\n",
    "document_objects = extract_document_objects(PATH, all_file_mapping)\n",
    "# Create the vectorstore\n",
    "vectorstore = Chroma.from_documents(documents=document_objects, embedding=OpenAIEmbeddings())"
   ]
  },
  {
   "cell_type": "code",
   "execution_count": 11,
   "id": "9e22b5f2-4600-440a-b288-6c80e1b090f0",
   "metadata": {},
   "outputs": [
    {
     "data": {
      "text/html": [
       "<h1><b>GX DocBot (Beta)</b></h1>"
      ],
      "text/plain": [
       "<IPython.core.display.HTML object>"
      ]
     },
     "metadata": {},
     "output_type": "display_data"
    },
    {
     "data": {
      "text/html": [
       "<h5>This application is for retrieving relevant docs related to question or generating a response.</h5>"
      ],
      "text/plain": [
       "<IPython.core.display.HTML object>"
      ]
     },
     "metadata": {},
     "output_type": "display_data"
    },
    {
     "data": {
      "text/html": [
       "<h5>The app utilizes our public-facing docs + Dev Rel slack Q and A data from slack community channel.</h5>"
      ],
      "text/plain": [
       "<IPython.core.display.HTML object>"
      ]
     },
     "metadata": {},
     "output_type": "display_data"
    },
    {
     "data": {
      "text/html": [
       "<h6>Score Threshold determines how relevant docs are to question. If question does not meet threshold, app will not return an answer.</h6>"
      ],
      "text/plain": [
       "<IPython.core.display.HTML object>"
      ]
     },
     "metadata": {},
     "output_type": "display_data"
    },
    {
     "data": {
      "text/html": [
       "<br>"
      ],
      "text/plain": [
       "<IPython.core.display.HTML object>"
      ]
     },
     "metadata": {},
     "output_type": "display_data"
    },
    {
     "data": {
      "application/vnd.jupyter.widget-view+json": {
       "model_id": "73d705a86ee54a8b8ed237b112ffbb0a",
       "version_major": 2,
       "version_minor": 0
      },
      "text/plain": [
       "Text(value='', description='Write your question:', layout=Layout(width='50%'), style=TextStyle(description_wid…"
      ]
     },
     "metadata": {},
     "output_type": "display_data"
    },
    {
     "data": {
      "application/vnd.jupyter.widget-view+json": {
       "model_id": "331ad57acdb64251afa78612457c375b",
       "version_major": 2,
       "version_minor": 0
      },
      "text/plain": [
       "FloatSlider(value=0.7, description='Score Threshold:', layout=Layout(width='50%'), max=1.0, step=0.01, style=S…"
      ]
     },
     "metadata": {},
     "output_type": "display_data"
    },
    {
     "data": {
      "application/vnd.jupyter.widget-view+json": {
       "model_id": "0d54b696384443dbb69eadaa34d2a544",
       "version_major": 2,
       "version_minor": 0
      },
      "text/plain": [
       "HBox(children=(Button(description='Source Document', style=ButtonStyle()), Button(description='Generate Respon…"
      ]
     },
     "metadata": {},
     "output_type": "display_data"
    },
    {
     "data": {
      "application/vnd.jupyter.widget-view+json": {
       "model_id": "f0b1668ecaa84bd3bfc69f8c1acb4352",
       "version_major": 2,
       "version_minor": 0
      },
      "text/plain": [
       "Output(layout=Layout(border_bottom='1px solid gray', border_left='1px solid gray', border_right='1px solid gra…"
      ]
     },
     "metadata": {},
     "output_type": "display_data"
    }
   ],
   "source": [
    "# Define the function to handle the question submission and display the results\n",
    "def on_question_submit(b):\n",
    "    question = text_box.value\n",
    "    score_threshold = float(slider.value)\n",
    "\n",
    "    retriever = vectorstore.as_retriever(search_type=\"similarity_score_threshold\", search_kwargs={\"score_threshold\": score_threshold})\n",
    "\n",
    "    # Get the retrieved_docs\n",
    "    retrieved_docs = retriever.get_relevant_documents(question)\n",
    "\n",
    "    # Clear the previous output\n",
    "    output.clear_output()\n",
    "\n",
    "    # Check if there are relevant documents or not and display the output\n",
    "    with output:\n",
    "        if len(retrieved_docs) == 0:\n",
    "            print(\"No relevant documents found.\")\n",
    "        else:\n",
    "            print(retrieved_docs)\n",
    "\n",
    "# Define the function to handle the \"Generate Response\" button click and display the result\n",
    "def generate_response(b):\n",
    "    question = text_box.value\n",
    "    score_threshold = float(slider.value)\n",
    "\n",
    "    retriever = vectorstore.as_retriever(search_type=\"similarity_score_threshold\", search_kwargs={\"score_threshold\": score_threshold})\n",
    "\n",
    "    retrieved_docs = retriever.get_relevant_documents(question)\n",
    "\n",
    "    # Clear the previous output\n",
    "    output.clear_output()\n",
    "\n",
    "    # Check if there are relevant documents or not and display the output\n",
    "    with output:\n",
    "        if len(retrieved_docs) == 0:\n",
    "            print(f\"No relevant documents found with the query: {question}\")\n",
    "        else:        \n",
    "            # Create the ChatOpenAI model and the RetrievalQA chain\n",
    "            llm = ChatOpenAI(model_name=\"gpt-3.5-turbo\", temperature=0)\n",
    "            qa_chain = RetrievalQA.from_chain_type(llm, retriever= retriever, return_source_documents=True)    \n",
    "            result = qa_chain({\"query\": question})\n",
    "            # Display the result    \n",
    "            print(result['result'])\n",
    "            \n",
    "\n",
    "# Create the widgets\n",
    "text_box = widgets.Text(\n",
    "    description='Write your question:',\n",
    "    layout=widgets.Layout(width='50%'),\n",
    "    style={'description_width': 'initial'}\n",
    ")\n",
    "\n",
    "slider = widgets.FloatSlider(\n",
    "    value=0.7,\n",
    "    min=0.0,\n",
    "    max=1.0,\n",
    "    step=0.01,\n",
    "    description='Score Threshold:',\n",
    "    layout=widgets.Layout(width='50%'),\n",
    "    style={'description_width': 'initial'}\n",
    ")\n",
    "\n",
    "submit_button = widgets.Button(description='Source Document', )\n",
    "submit_button.on_click(on_question_submit)\n",
    "\n",
    "generate_button = widgets.Button(description='Generate Response')\n",
    "generate_button.on_click(generate_response)\n",
    "\n",
    "# Create an HBox to place the buttons side by side\n",
    "buttons_box = widgets.HBox([submit_button, generate_button])\n",
    "\n",
    "# Create the output widget for displaying the results\n",
    "output = widgets.Output(\n",
    "    layout=widgets.Layout(width='90%', height='300px', border='1px solid gray', overflow = 'auto')\n",
    ")\n",
    "\n",
    "title_html = '<h1><b>GX DocBot (Beta)</b></h1>'\n",
    "subtitle_html = '<h5>This application is for retrieving relevant docs related to question or generating a response.</h5>'\n",
    "subtitle_html_2 = '<h5>The app utilizes our public-facing docs + Dev Rel slack Q and A data from slack community channel.</h5>'\n",
    "subtitle_html_3 = '<h6>Score Threshold determines how relevant docs are to question. If question does not meet threshold, app will not return an answer.</h6>'\n",
    "\n",
    "title_widget = HTML(title_html)\n",
    "subtitle_widget = HTML(subtitle_html)\n",
    "subtitle_widget_2 = HTML(subtitle_html_2)\n",
    "subtitle_widget_3 = HTML(subtitle_html_3)\n",
    "\n",
    "# Display the widgets and output\n",
    "display(title_widget)\n",
    "display(subtitle_widget)\n",
    "display(subtitle_widget_2)\n",
    "display(subtitle_widget_3)\n",
    "display(HTML(\"<br>\"))\n",
    "display(text_box)\n",
    "display(slider)\n",
    "display(buttons_box) \n",
    "display(output)"
   ]
  },
  {
   "cell_type": "code",
   "execution_count": null,
   "id": "b30eba8a-81fe-4839-9c9b-f991877cbd6b",
   "metadata": {},
   "outputs": [],
   "source": []
  },
  {
   "cell_type": "code",
   "execution_count": null,
   "id": "0757de46-248e-4652-8174-accdd19c9b69",
   "metadata": {},
   "outputs": [],
   "source": []
  }
 ],
 "metadata": {
  "kernelspec": {
   "display_name": "Python 3.8",
   "language": "python",
   "name": "python3.8"
  },
  "language_info": {
   "codemirror_mode": {
    "name": "ipython",
    "version": 3
   },
   "file_extension": ".py",
   "mimetype": "text/x-python",
   "name": "python",
   "nbconvert_exporter": "python",
   "pygments_lexer": "ipython3",
   "version": "3.8.17"
  }
 },
 "nbformat": 4,
 "nbformat_minor": 5
}
